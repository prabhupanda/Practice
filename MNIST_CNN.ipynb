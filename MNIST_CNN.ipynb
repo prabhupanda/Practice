{
  "nbformat": 4,
  "nbformat_minor": 0,
  "metadata": {
    "colab": {
      "name": "MNIST_CNN.ipynb",
      "provenance": [],
      "authorship_tag": "ABX9TyOPx3AzLEYZTa6EFkGccQIc",
      "include_colab_link": true
    },
    "kernelspec": {
      "name": "python3",
      "display_name": "Python 3"
    }
  },
  "cells": [
    {
      "cell_type": "markdown",
      "metadata": {
        "id": "view-in-github",
        "colab_type": "text"
      },
      "source": [
        "<a href=\"https://colab.research.google.com/github/prabhupanda/Practice/blob/master/MNIST_CNN.ipynb\" target=\"_parent\"><img src=\"https://colab.research.google.com/assets/colab-badge.svg\" alt=\"Open In Colab\"/></a>"
      ]
    },
    {
      "cell_type": "code",
      "metadata": {
        "id": "93oCAsG8CRMi",
        "colab_type": "code",
        "colab": {}
      },
      "source": [
        "import numpy as np\n",
        "import pandas as pd\n",
        "import tensorflow as tf"
      ],
      "execution_count": 36,
      "outputs": []
    },
    {
      "cell_type": "code",
      "metadata": {
        "id": "p-k1jJZ_EBFy",
        "colab_type": "code",
        "colab": {}
      },
      "source": [
        "mnist_data=pd.read_csv('sign_mnist_train.csv')"
      ],
      "execution_count": 37,
      "outputs": []
    },
    {
      "cell_type": "code",
      "metadata": {
        "id": "b46LPbAIQ5VE",
        "colab_type": "code",
        "colab": {
          "base_uri": "https://localhost:8080/",
          "height": 122
        },
        "outputId": "5d13a35f-a13d-483e-8fb9-d3e2b1ac4471"
      },
      "source": [
        "labels_encode=mnist_data['label']\n",
        "labels_encode.head()"
      ],
      "execution_count": 38,
      "outputs": [
        {
          "output_type": "execute_result",
          "data": {
            "text/plain": [
              "0     3\n",
              "1     6\n",
              "2     2\n",
              "3     2\n",
              "4    13\n",
              "Name: label, dtype: int64"
            ]
          },
          "metadata": {
            "tags": []
          },
          "execution_count": 38
        }
      ]
    },
    {
      "cell_type": "code",
      "metadata": {
        "id": "ATsOALlTRGHY",
        "colab_type": "code",
        "colab": {
          "base_uri": "https://localhost:8080/",
          "height": 367
        },
        "outputId": "7b68baa2-f851-4524-bbf3-ad639afb4a5a"
      },
      "source": [
        "labels_encode="
      ],
      "execution_count": 44,
      "outputs": [
        {
          "output_type": "error",
          "ename": "TypeError",
          "evalue": "ignored",
          "traceback": [
            "\u001b[0;31m---------------------------------------------------------------------------\u001b[0m",
            "\u001b[0;31mTypeError\u001b[0m                                 Traceback (most recent call last)",
            "\u001b[0;32m<ipython-input-44-fea4ceb6f0b1>\u001b[0m in \u001b[0;36m<module>\u001b[0;34m()\u001b[0m\n\u001b[1;32m      1\u001b[0m \u001b[0;32mfrom\u001b[0m \u001b[0msklearn\u001b[0m\u001b[0;34m.\u001b[0m\u001b[0mpreprocessing\u001b[0m \u001b[0;32mimport\u001b[0m \u001b[0mOneHotEncoder\u001b[0m\u001b[0;34m\u001b[0m\u001b[0;34m\u001b[0m\u001b[0m\n\u001b[1;32m      2\u001b[0m \u001b[0mencoder\u001b[0m\u001b[0;34m=\u001b[0m\u001b[0mOneHotEncoder\u001b[0m\u001b[0;34m(\u001b[0m\u001b[0;34m)\u001b[0m\u001b[0;34m\u001b[0m\u001b[0;34m\u001b[0m\u001b[0m\n\u001b[0;32m----> 3\u001b[0;31m \u001b[0mlabels_encode\u001b[0m\u001b[0;34m=\u001b[0m\u001b[0mpd\u001b[0m\u001b[0;34m.\u001b[0m\u001b[0mget_dummies\u001b[0m\u001b[0;34m(\u001b[0m\u001b[0mlabels_encode\u001b[0m\u001b[0;34m)\u001b[0m\u001b[0;34m\u001b[0m\u001b[0;34m\u001b[0m\u001b[0m\n\u001b[0m\u001b[1;32m      4\u001b[0m \u001b[0mlabels_encode\u001b[0m\u001b[0;34m.\u001b[0m\u001b[0mhead\u001b[0m\u001b[0;34m(\u001b[0m\u001b[0;34m)\u001b[0m\u001b[0;34m\u001b[0m\u001b[0;34m\u001b[0m\u001b[0m\n",
            "\u001b[0;32m/usr/local/lib/python3.6/dist-packages/pandas/core/reshape/reshape.py\u001b[0m in \u001b[0;36mget_dummies\u001b[0;34m(data, prefix, prefix_sep, dummy_na, columns, sparse, drop_first, dtype)\u001b[0m\n\u001b[1;32m    932\u001b[0m             \u001b[0msparse\u001b[0m\u001b[0;34m=\u001b[0m\u001b[0msparse\u001b[0m\u001b[0;34m,\u001b[0m\u001b[0;34m\u001b[0m\u001b[0;34m\u001b[0m\u001b[0m\n\u001b[1;32m    933\u001b[0m             \u001b[0mdrop_first\u001b[0m\u001b[0;34m=\u001b[0m\u001b[0mdrop_first\u001b[0m\u001b[0;34m,\u001b[0m\u001b[0;34m\u001b[0m\u001b[0;34m\u001b[0m\u001b[0m\n\u001b[0;32m--> 934\u001b[0;31m             \u001b[0mdtype\u001b[0m\u001b[0;34m=\u001b[0m\u001b[0mdtype\u001b[0m\u001b[0;34m,\u001b[0m\u001b[0;34m\u001b[0m\u001b[0;34m\u001b[0m\u001b[0m\n\u001b[0m\u001b[1;32m    935\u001b[0m         )\n\u001b[1;32m    936\u001b[0m     \u001b[0;32mreturn\u001b[0m \u001b[0mresult\u001b[0m\u001b[0;34m\u001b[0m\u001b[0;34m\u001b[0m\u001b[0m\n",
            "\u001b[0;32m/usr/local/lib/python3.6/dist-packages/pandas/core/reshape/reshape.py\u001b[0m in \u001b[0;36m_get_dummies_1d\u001b[0;34m(data, prefix, prefix_sep, dummy_na, sparse, drop_first, dtype)\u001b[0m\n\u001b[1;32m    949\u001b[0m \u001b[0;34m\u001b[0m\u001b[0m\n\u001b[1;32m    950\u001b[0m     \u001b[0;31m# Series avoids inconsistent NaN handling\u001b[0m\u001b[0;34m\u001b[0m\u001b[0;34m\u001b[0m\u001b[0;34m\u001b[0m\u001b[0m\n\u001b[0;32m--> 951\u001b[0;31m     \u001b[0mcodes\u001b[0m\u001b[0;34m,\u001b[0m \u001b[0mlevels\u001b[0m \u001b[0;34m=\u001b[0m \u001b[0mfactorize_from_iterable\u001b[0m\u001b[0;34m(\u001b[0m\u001b[0mSeries\u001b[0m\u001b[0;34m(\u001b[0m\u001b[0mdata\u001b[0m\u001b[0;34m)\u001b[0m\u001b[0;34m)\u001b[0m\u001b[0;34m\u001b[0m\u001b[0;34m\u001b[0m\u001b[0m\n\u001b[0m\u001b[1;32m    952\u001b[0m \u001b[0;34m\u001b[0m\u001b[0m\n\u001b[1;32m    953\u001b[0m     \u001b[0;32mif\u001b[0m \u001b[0mdtype\u001b[0m \u001b[0;32mis\u001b[0m \u001b[0;32mNone\u001b[0m\u001b[0;34m:\u001b[0m\u001b[0;34m\u001b[0m\u001b[0;34m\u001b[0m\u001b[0m\n",
            "\u001b[0;32m/usr/local/lib/python3.6/dist-packages/pandas/core/series.py\u001b[0m in \u001b[0;36m__init__\u001b[0;34m(self, data, index, dtype, name, copy, fastpath)\u001b[0m\n\u001b[1;32m    282\u001b[0m                 \u001b[0;32mif\u001b[0m \u001b[0;32mnot\u001b[0m \u001b[0mis_list_like\u001b[0m\u001b[0;34m(\u001b[0m\u001b[0mdata\u001b[0m\u001b[0;34m)\u001b[0m\u001b[0;34m:\u001b[0m\u001b[0;34m\u001b[0m\u001b[0;34m\u001b[0m\u001b[0m\n\u001b[1;32m    283\u001b[0m                     \u001b[0mdata\u001b[0m \u001b[0;34m=\u001b[0m \u001b[0;34m[\u001b[0m\u001b[0mdata\u001b[0m\u001b[0;34m]\u001b[0m\u001b[0;34m\u001b[0m\u001b[0;34m\u001b[0m\u001b[0m\n\u001b[0;32m--> 284\u001b[0;31m                 \u001b[0mindex\u001b[0m \u001b[0;34m=\u001b[0m \u001b[0mibase\u001b[0m\u001b[0;34m.\u001b[0m\u001b[0mdefault_index\u001b[0m\u001b[0;34m(\u001b[0m\u001b[0mlen\u001b[0m\u001b[0;34m(\u001b[0m\u001b[0mdata\u001b[0m\u001b[0;34m)\u001b[0m\u001b[0;34m)\u001b[0m\u001b[0;34m\u001b[0m\u001b[0;34m\u001b[0m\u001b[0m\n\u001b[0m\u001b[1;32m    285\u001b[0m             \u001b[0;32melif\u001b[0m \u001b[0mis_list_like\u001b[0m\u001b[0;34m(\u001b[0m\u001b[0mdata\u001b[0m\u001b[0;34m)\u001b[0m\u001b[0;34m:\u001b[0m\u001b[0;34m\u001b[0m\u001b[0;34m\u001b[0m\u001b[0m\n\u001b[1;32m    286\u001b[0m \u001b[0;34m\u001b[0m\u001b[0m\n",
            "\u001b[0;32m/usr/local/lib/python3.6/dist-packages/scipy/sparse/base.py\u001b[0m in \u001b[0;36m__len__\u001b[0;34m(self)\u001b[0m\n\u001b[1;32m    293\u001b[0m     \u001b[0;31m# non-zeros is more important.  For now, raise an exception!\u001b[0m\u001b[0;34m\u001b[0m\u001b[0;34m\u001b[0m\u001b[0;34m\u001b[0m\u001b[0m\n\u001b[1;32m    294\u001b[0m     \u001b[0;32mdef\u001b[0m \u001b[0m__len__\u001b[0m\u001b[0;34m(\u001b[0m\u001b[0mself\u001b[0m\u001b[0;34m)\u001b[0m\u001b[0;34m:\u001b[0m\u001b[0;34m\u001b[0m\u001b[0;34m\u001b[0m\u001b[0m\n\u001b[0;32m--> 295\u001b[0;31m         raise TypeError(\"sparse matrix length is ambiguous; use getnnz()\"\n\u001b[0m\u001b[1;32m    296\u001b[0m                         \" or shape[0]\")\n\u001b[1;32m    297\u001b[0m \u001b[0;34m\u001b[0m\u001b[0m\n",
            "\u001b[0;31mTypeError\u001b[0m: sparse matrix length is ambiguous; use getnnz() or shape[0]"
          ]
        }
      ]
    },
    {
      "cell_type": "code",
      "metadata": {
        "id": "wTE8aWpaE9pl",
        "colab_type": "code",
        "colab": {}
      },
      "source": [
        "X=mnist_data.iloc[:,1:].values\n",
        "y=mnist_data.iloc[:,0:1].values\n",
        "X_std=X/255\n",
        "\n",
        "from sklearn.model_selection import train_test_split\n",
        "x_train,x_test,y_train,y_test=train_test_split(X_std,y,train_size=0.8,random_state=2)\n"
      ],
      "execution_count": 45,
      "outputs": []
    },
    {
      "cell_type": "code",
      "metadata": {
        "id": "9os6-QzbSybK",
        "colab_type": "code",
        "colab": {}
      },
      "source": [
        "y_train=tf.keras.utils.to_categorical(y_train)\n",
        "y_test=tf.keras.utils.to_categorical(y_test)"
      ],
      "execution_count": 47,
      "outputs": []
    },
    {
      "cell_type": "code",
      "metadata": {
        "id": "cQsQ4OdSFB5D",
        "colab_type": "code",
        "colab": {
          "base_uri": "https://localhost:8080/",
          "height": 738
        },
        "outputId": "b6f78f2e-e726-4200-ef58-7f9d30d7d5ab"
      },
      "source": [
        "cnn=tf.keras.models.Sequential()\n",
        "cnn.add(tf.keras.layers.Dense(units=1024,activation='relu'))\n",
        "#cnn.add(tf.keras.layers.Dense(units=1024,activation='relu'))\n",
        "cnn.add(tf.keras.layers.Dense(units=1024,activation='relu'))\n",
        "\n",
        "cnn.add(tf.keras.layers.Dense(units=512,activation='relu'))\n",
        "#cnn.add(tf.keras.layers.Dense(units=512,activation='relu'))\n",
        "cnn.add(tf.keras.layers.Dense(units=256,activation='relu'))\n",
        "\n",
        "cnn.add(tf.keras.layers.Dense(units=256,activation='relu'))\n",
        "cnn.add(tf.keras.layers.Dense(units=128,activation='relu'))\n",
        "#cnn.add(tf.keras.layers.Dense(units=128,activation='relu'))\n",
        "cnn.add(tf.keras.layers.Dense(units=64,activation='relu'))\n",
        "#cnn.add(tf.keras.layers.Dense(units=64,activation='relu'))\n",
        "\n",
        "cnn.add(tf.keras.layers.Dense(units=32,activation='relu'))\n",
        "cnn.add(tf.keras.layers.Dense(units=25,activation='softmax'))\n",
        "\n",
        "cnn.compile(optimizer='adam',loss='categorical_crossentropy',metrics=['accuracy'])\n",
        "cnn.fit(x_train,y_train,epochs=20,batch_size=32)"
      ],
      "execution_count": 58,
      "outputs": [
        {
          "output_type": "stream",
          "text": [
            "Epoch 1/20\n",
            "687/687 [==============================] - 22s 31ms/step - loss: 2.8093 - accuracy: 0.0991\n",
            "Epoch 2/20\n",
            "687/687 [==============================] - 21s 31ms/step - loss: 2.2150 - accuracy: 0.2147\n",
            "Epoch 3/20\n",
            "687/687 [==============================] - 21s 31ms/step - loss: 1.9034 - accuracy: 0.2995\n",
            "Epoch 4/20\n",
            "687/687 [==============================] - 21s 31ms/step - loss: 1.6623 - accuracy: 0.3917\n",
            "Epoch 5/20\n",
            "687/687 [==============================] - 22s 31ms/step - loss: 1.4162 - accuracy: 0.4825\n",
            "Epoch 6/20\n",
            "687/687 [==============================] - 22s 32ms/step - loss: 1.1336 - accuracy: 0.5830\n",
            "Epoch 7/20\n",
            "687/687 [==============================] - 22s 33ms/step - loss: 0.9837 - accuracy: 0.6369\n",
            "Epoch 8/20\n",
            "687/687 [==============================] - 23s 33ms/step - loss: 0.8055 - accuracy: 0.7019\n",
            "Epoch 9/20\n",
            "687/687 [==============================] - 22s 31ms/step - loss: 0.6819 - accuracy: 0.7508\n",
            "Epoch 10/20\n",
            "687/687 [==============================] - 22s 31ms/step - loss: 0.5640 - accuracy: 0.7990\n",
            "Epoch 11/20\n",
            "687/687 [==============================] - 22s 32ms/step - loss: 0.4867 - accuracy: 0.8272\n",
            "Epoch 12/20\n",
            "687/687 [==============================] - 22s 32ms/step - loss: 0.4497 - accuracy: 0.8437\n",
            "Epoch 13/20\n",
            "687/687 [==============================] - 23s 34ms/step - loss: 0.3175 - accuracy: 0.8897\n",
            "Epoch 14/20\n",
            "687/687 [==============================] - 22s 32ms/step - loss: 0.2781 - accuracy: 0.9082\n",
            "Epoch 15/20\n",
            "687/687 [==============================] - 21s 31ms/step - loss: 0.2382 - accuracy: 0.9184\n",
            "Epoch 16/20\n",
            "687/687 [==============================] - 23s 33ms/step - loss: 0.2906 - accuracy: 0.9101\n",
            "Epoch 17/20\n",
            "687/687 [==============================] - 23s 34ms/step - loss: 0.1805 - accuracy: 0.9408\n",
            "Epoch 18/20\n",
            "687/687 [==============================] - 23s 33ms/step - loss: 0.1914 - accuracy: 0.9384\n",
            "Epoch 19/20\n",
            "687/687 [==============================] - 23s 33ms/step - loss: 0.1681 - accuracy: 0.9447\n",
            "Epoch 20/20\n",
            "687/687 [==============================] - 23s 33ms/step - loss: 0.1943 - accuracy: 0.9420\n"
          ],
          "name": "stdout"
        },
        {
          "output_type": "execute_result",
          "data": {
            "text/plain": [
              "<tensorflow.python.keras.callbacks.History at 0x7faff9e3ada0>"
            ]
          },
          "metadata": {
            "tags": []
          },
          "execution_count": 58
        }
      ]
    },
    {
      "cell_type": "code",
      "metadata": {
        "id": "6GoXEGvnHoeX",
        "colab_type": "code",
        "colab": {
          "base_uri": "https://localhost:8080/",
          "height": 34
        },
        "outputId": "97622fd7-09c2-46aa-da45-b2ad89818228"
      },
      "source": [
        "print(len(y_train[0]))"
      ],
      "execution_count": 53,
      "outputs": [
        {
          "output_type": "stream",
          "text": [
            "25\n"
          ],
          "name": "stdout"
        }
      ]
    },
    {
      "cell_type": "code",
      "metadata": {
        "id": "_mMe39LLJqkN",
        "colab_type": "code",
        "colab": {
          "base_uri": "https://localhost:8080/",
          "height": 105
        },
        "outputId": "34fe0df9-6f30-4fce-8edc-9b33ffebc41c"
      },
      "source": [
        "y_test_pred=cnn.predict(x_test)\n",
        "print(y_test_pred[0])"
      ],
      "execution_count": 66,
      "outputs": [
        {
          "output_type": "stream",
          "text": [
            "[2.8463976e-14 2.1326275e-07 1.1783317e-30 1.0159420e-08 4.0956806e-17\n",
            " 7.9960215e-15 1.4685993e-18 1.9934807e-09 1.2398743e-12 0.0000000e+00\n",
            " 7.4489916e-22 6.8058951e-21 1.9271378e-10 1.7892025e-09 2.6560431e-12\n",
            " 2.2170456e-08 9.9999881e-01 1.9484303e-10 9.5989799e-07 4.9237596e-09\n",
            " 2.5876851e-13 3.6211398e-13 1.0250272e-13 6.5769466e-11 9.3753227e-09]\n"
          ],
          "name": "stdout"
        }
      ]
    },
    {
      "cell_type": "code",
      "metadata": {
        "id": "o-uM_X3sZhEt",
        "colab_type": "code",
        "colab": {
          "base_uri": "https://localhost:8080/",
          "height": 34
        },
        "outputId": "0a598c8b-9e2c-4bf8-893e-a9a733d26d5c"
      },
      "source": [
        "loss,accuracy=cnn.evaluate(x=x_test,y=y_test)"
      ],
      "execution_count": 71,
      "outputs": [
        {
          "output_type": "stream",
          "text": [
            "172/172 [==============================] - 1s 7ms/step - loss: 0.1898 - accuracy: 0.9324\n"
          ],
          "name": "stdout"
        }
      ]
    },
    {
      "cell_type": "code",
      "metadata": {
        "id": "QicKfpofeIL1",
        "colab_type": "code",
        "colab": {
          "base_uri": "https://localhost:8080/",
          "height": 34
        },
        "outputId": "5de3bee2-47be-4b89-b308-41821b660b41"
      },
      "source": [
        "print(loss)"
      ],
      "execution_count": 72,
      "outputs": [
        {
          "output_type": "stream",
          "text": [
            "0.18978025019168854\n"
          ],
          "name": "stdout"
        }
      ]
    },
    {
      "cell_type": "code",
      "metadata": {
        "id": "jAqPOOTZeJ_K",
        "colab_type": "code",
        "colab": {}
      },
      "source": [
        ""
      ],
      "execution_count": null,
      "outputs": []
    }
  ]
}